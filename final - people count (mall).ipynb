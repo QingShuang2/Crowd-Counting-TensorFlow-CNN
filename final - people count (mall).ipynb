{
 "cells": [
  {
   "cell_type": "code",
   "execution_count": 1,
   "metadata": {},
   "outputs": [],
   "source": [
    "# %%bash  \n",
    "# pip install pillow #Requirement already satisfied: pillow in /root/opt/anaconda3/lib/python3.5/site-packages\n",
    "# apt-get install libsm6 libxrender1 libfontconfig1\n",
    "\n",
    "# pip install matplotlib\n",
    "# gsutil cp gs://accelerometer-d41e2.appspot.com/accelerometer-d41e2-firebase-adminsdk-h782h-b747ff5f64.json /home/sshfile.json\n",
    "# gsutil cp gs://dirversdatatest/Testing-dc8f6bcff8e2.json /home/sshfiletest.json\n",
    "# gsutil cp gs://visuallab/mall_dataset/perspective_roi.mat /home/vis/perspective_roi.mat \n",
    "# gsutil cp gs://visuallab/mall_dataset/mall_gt.mat /home/vis/mall_gt.mat \n",
    "# gsutil cp gs://visuallab/mall_dataset/mall_feat.mat /home/vis/mall_feat.mat \n",
    "# gsutil cp gs://visuallab/mall_dataset/frames/*.jpg /home/vis/\n",
    "\n",
    "# gsutil cp gs://visuallab/mall_dataset/perspective_roi.mat /home/vis/perspective_roi.mat \n",
    "# gsutil cp gs://visuallab/mall_dataset/mall_gt.mat /home/vis/mall_gt.mat \n",
    "# gsutil cp gs://visuallab/mall_dataset/mall_feat.mat /home/mayakurtser-putty/matlab_mall/mall_feat.mat \n",
    "# conda update mkl"
   ]
  },
  {
   "cell_type": "code",
   "execution_count": 2,
   "metadata": {},
   "outputs": [
    {
     "name": "stderr",
     "output_type": "stream",
     "text": [
      "C:\\Users\\user\\Anaconda3\\lib\\site-packages\\h5py\\__init__.py:34: FutureWarning: Conversion of the second argument of issubdtype from `float` to `np.floating` is deprecated. In future, it will be treated as `np.float64 == np.dtype(float).type`.\n",
      "  from ._conv import register_converters as _register_converters\n"
     ]
    }
   ],
   "source": [
    "import matplotlib as plt\n",
    "plt.use('agg')\n",
    "%matplotlib inline\n",
    "\n",
    "from PIL import Image\n",
    "import scipy\n",
    "import scipy.io\n",
    "import scipy.stats as stats\n",
    "import pickle\n",
    "\n",
    "from matplotlib.pyplot import imshow\n",
    "import matplotlib.cm as cm\n",
    "import matplotlib.mlab as mlab\n",
    "import pylab as pltl\n",
    "import matplotlib.image as mpimg\n",
    "import numpy as np \n",
    "from scipy.stats import multivariate_normal\n",
    "import pandas as pd\n",
    "from scipy import ndimage\n",
    "import random\n",
    "import scipy.ndimage\n",
    "import itertools\n",
    "\n",
    "from __future__ import absolute_import\n",
    "from __future__ import division\n",
    "from __future__ import print_function\n",
    "\n",
    "import tensorflow as tf\n",
    "\n",
    "from tensorflow.contrib import learn\n",
    "from tensorflow.contrib.learn.python.learn.estimators import model_fn as model_fn_lib\n",
    "tf.logging.set_verbosity(tf.logging.INFO)"
   ]
  },
  {
   "cell_type": "code",
   "execution_count": 4,
   "metadata": {},
   "outputs": [
    {
     "ename": "FileNotFoundError",
     "evalue": "[Errno 2] No such file or directory: '/home/mayakurtser-putty/matlab_mall/perspective_roi.mat'",
     "output_type": "error",
     "traceback": [
      "\u001b[1;31m---------------------------------------------------------------------------\u001b[0m",
      "\u001b[1;31mFileNotFoundError\u001b[0m                         Traceback (most recent call last)",
      "\u001b[1;32m<ipython-input-4-d4590d221525>\u001b[0m in \u001b[0;36m<module>\u001b[1;34m()\u001b[0m\n\u001b[0;32m      6\u001b[0m \u001b[1;31m# /home/vis/ => /home/mayakurtser-putty/matlab_mall/\u001b[0m\u001b[1;33m\u001b[0m\u001b[1;33m\u001b[0m\u001b[0m\n\u001b[0;32m      7\u001b[0m \u001b[1;31m# importing the data and convert it from a matlab object into a dictionary\u001b[0m\u001b[1;33m\u001b[0m\u001b[1;33m\u001b[0m\u001b[0m\n\u001b[1;32m----> 8\u001b[1;33m \u001b[0mroi\u001b[0m \u001b[1;33m=\u001b[0m \u001b[0mscipy\u001b[0m\u001b[1;33m.\u001b[0m\u001b[0mio\u001b[0m\u001b[1;33m.\u001b[0m\u001b[0mloadmat\u001b[0m\u001b[1;33m(\u001b[0m\u001b[1;34m'/home/mayakurtser-putty/matlab_mall/perspective_roi.mat'\u001b[0m\u001b[1;33m)\u001b[0m\u001b[1;33m\u001b[0m\u001b[0m\n\u001b[0m\u001b[0;32m      9\u001b[0m \u001b[0mmall_gt\u001b[0m \u001b[1;33m=\u001b[0m \u001b[0mscipy\u001b[0m\u001b[1;33m.\u001b[0m\u001b[0mio\u001b[0m\u001b[1;33m.\u001b[0m\u001b[0mloadmat\u001b[0m\u001b[1;33m(\u001b[0m\u001b[1;34m'/home/mayakurtser-putty/matlab_mall/mall_gt.mat'\u001b[0m\u001b[1;33m)\u001b[0m\u001b[1;33m\u001b[0m\u001b[0m\n\u001b[0;32m     10\u001b[0m \u001b[0mmall_feat\u001b[0m \u001b[1;33m=\u001b[0m \u001b[0mscipy\u001b[0m\u001b[1;33m.\u001b[0m\u001b[0mio\u001b[0m\u001b[1;33m.\u001b[0m\u001b[0mloadmat\u001b[0m\u001b[1;33m(\u001b[0m\u001b[1;34m'/home/mayakurtser-putty/matlab_mall/mall_feat.mat'\u001b[0m\u001b[1;33m)\u001b[0m\u001b[1;33m\u001b[0m\u001b[0m\n",
      "\u001b[1;32m~\\Anaconda3\\lib\\site-packages\\scipy\\io\\matlab\\mio.py\u001b[0m in \u001b[0;36mloadmat\u001b[1;34m(file_name, mdict, appendmat, **kwargs)\u001b[0m\n\u001b[0;32m    133\u001b[0m     \"\"\"\n\u001b[0;32m    134\u001b[0m     \u001b[0mvariable_names\u001b[0m \u001b[1;33m=\u001b[0m \u001b[0mkwargs\u001b[0m\u001b[1;33m.\u001b[0m\u001b[0mpop\u001b[0m\u001b[1;33m(\u001b[0m\u001b[1;34m'variable_names'\u001b[0m\u001b[1;33m,\u001b[0m \u001b[1;32mNone\u001b[0m\u001b[1;33m)\u001b[0m\u001b[1;33m\u001b[0m\u001b[0m\n\u001b[1;32m--> 135\u001b[1;33m     \u001b[0mMR\u001b[0m \u001b[1;33m=\u001b[0m \u001b[0mmat_reader_factory\u001b[0m\u001b[1;33m(\u001b[0m\u001b[0mfile_name\u001b[0m\u001b[1;33m,\u001b[0m \u001b[0mappendmat\u001b[0m\u001b[1;33m,\u001b[0m \u001b[1;33m**\u001b[0m\u001b[0mkwargs\u001b[0m\u001b[1;33m)\u001b[0m\u001b[1;33m\u001b[0m\u001b[0m\n\u001b[0m\u001b[0;32m    136\u001b[0m     \u001b[0mmatfile_dict\u001b[0m \u001b[1;33m=\u001b[0m \u001b[0mMR\u001b[0m\u001b[1;33m.\u001b[0m\u001b[0mget_variables\u001b[0m\u001b[1;33m(\u001b[0m\u001b[0mvariable_names\u001b[0m\u001b[1;33m)\u001b[0m\u001b[1;33m\u001b[0m\u001b[0m\n\u001b[0;32m    137\u001b[0m     \u001b[1;32mif\u001b[0m \u001b[0mmdict\u001b[0m \u001b[1;32mis\u001b[0m \u001b[1;32mnot\u001b[0m \u001b[1;32mNone\u001b[0m\u001b[1;33m:\u001b[0m\u001b[1;33m\u001b[0m\u001b[0m\n",
      "\u001b[1;32m~\\Anaconda3\\lib\\site-packages\\scipy\\io\\matlab\\mio.py\u001b[0m in \u001b[0;36mmat_reader_factory\u001b[1;34m(file_name, appendmat, **kwargs)\u001b[0m\n\u001b[0;32m     56\u001b[0m        \u001b[0mtype\u001b[0m \u001b[0mdetected\u001b[0m \u001b[1;32min\u001b[0m\u001b[0;31m \u001b[0m\u001b[0;31m`\u001b[0m\u001b[0mfilename\u001b[0m\u001b[0;31m`\u001b[0m\u001b[1;33m.\u001b[0m\u001b[1;33m\u001b[0m\u001b[0m\n\u001b[0;32m     57\u001b[0m     \"\"\"\n\u001b[1;32m---> 58\u001b[1;33m     \u001b[0mbyte_stream\u001b[0m \u001b[1;33m=\u001b[0m \u001b[0m_open_file\u001b[0m\u001b[1;33m(\u001b[0m\u001b[0mfile_name\u001b[0m\u001b[1;33m,\u001b[0m \u001b[0mappendmat\u001b[0m\u001b[1;33m)\u001b[0m\u001b[1;33m\u001b[0m\u001b[0m\n\u001b[0m\u001b[0;32m     59\u001b[0m     \u001b[0mmjv\u001b[0m\u001b[1;33m,\u001b[0m \u001b[0mmnv\u001b[0m \u001b[1;33m=\u001b[0m \u001b[0mget_matfile_version\u001b[0m\u001b[1;33m(\u001b[0m\u001b[0mbyte_stream\u001b[0m\u001b[1;33m)\u001b[0m\u001b[1;33m\u001b[0m\u001b[0m\n\u001b[0;32m     60\u001b[0m     \u001b[1;32mif\u001b[0m \u001b[0mmjv\u001b[0m \u001b[1;33m==\u001b[0m \u001b[1;36m0\u001b[0m\u001b[1;33m:\u001b[0m\u001b[1;33m\u001b[0m\u001b[0m\n",
      "\u001b[1;32m~\\Anaconda3\\lib\\site-packages\\scipy\\io\\matlab\\mio.py\u001b[0m in \u001b[0;36m_open_file\u001b[1;34m(file_like, appendmat)\u001b[0m\n\u001b[0;32m     21\u001b[0m     \u001b[1;32mif\u001b[0m \u001b[0misinstance\u001b[0m\u001b[1;33m(\u001b[0m\u001b[0mfile_like\u001b[0m\u001b[1;33m,\u001b[0m \u001b[0mstring_types\u001b[0m\u001b[1;33m)\u001b[0m\u001b[1;33m:\u001b[0m\u001b[1;33m\u001b[0m\u001b[0m\n\u001b[0;32m     22\u001b[0m         \u001b[1;32mtry\u001b[0m\u001b[1;33m:\u001b[0m\u001b[1;33m\u001b[0m\u001b[0m\n\u001b[1;32m---> 23\u001b[1;33m             \u001b[1;32mreturn\u001b[0m \u001b[0mopen\u001b[0m\u001b[1;33m(\u001b[0m\u001b[0mfile_like\u001b[0m\u001b[1;33m,\u001b[0m \u001b[1;34m'rb'\u001b[0m\u001b[1;33m)\u001b[0m\u001b[1;33m\u001b[0m\u001b[0m\n\u001b[0m\u001b[0;32m     24\u001b[0m         \u001b[1;32mexcept\u001b[0m \u001b[0mIOError\u001b[0m \u001b[1;32mas\u001b[0m \u001b[0me\u001b[0m\u001b[1;33m:\u001b[0m\u001b[1;33m\u001b[0m\u001b[0m\n\u001b[0;32m     25\u001b[0m             \u001b[1;32mif\u001b[0m \u001b[0mappendmat\u001b[0m \u001b[1;32mand\u001b[0m \u001b[1;32mnot\u001b[0m \u001b[0mfile_like\u001b[0m\u001b[1;33m.\u001b[0m\u001b[0mendswith\u001b[0m\u001b[1;33m(\u001b[0m\u001b[1;34m'.mat'\u001b[0m\u001b[1;33m)\u001b[0m\u001b[1;33m:\u001b[0m\u001b[1;33m\u001b[0m\u001b[0m\n",
      "\u001b[1;31mFileNotFoundError\u001b[0m: [Errno 2] No such file or directory: '/home/mayakurtser-putty/matlab_mall/perspective_roi.mat'"
     ]
    }
   ],
   "source": [
    "#roi = scipy.io.loadmat('/home/vis/perspective_roi.mat')\n",
    "#mall_gt = scipy.io.loadmat('/home/vis/mall_gt.mat')\n",
    "#mall_feat = scipy.io.loadmat('/home/vis/mall_feat.mat')\n",
    "\n",
    "## Replace the above paths with this: ##\n",
    "# /home/vis/ => /home/mayakurtser-putty/matlab_mall/\n",
    "# importing the data and convert it from a matlab object into a dictionary\n",
    "roi = scipy.io.loadmat('/home/mayakurtser-putty/matlab_mall/perspective_roi.mat')\n",
    "mall_gt = scipy.io.loadmat('/home/mayakurtser-putty/matlab_mall/mall_gt.mat')\n",
    "mall_feat = scipy.io.loadmat('/home/mayakurtser-putty/matlab_mall/mall_feat.mat')"
   ]
  },
  {
   "cell_type": "code",
   "execution_count": 11,
   "metadata": {
    "collapsed": true
   },
   "outputs": [],
   "source": [
    "# saving the data in more comfortable way\n",
    "pictures = mall_gt['frame'][0]\n",
    "pmap = roi['pMapN']"
   ]
  },
  {
   "cell_type": "code",
   "execution_count": 12,
   "metadata": {},
   "outputs": [],
   "source": [
    "#iterates all the heads of an image and for all the heads calculate the gaussian \n",
    "# pdf in every pixel in the square that is in the length of 2*3.5*std which center\n",
    "# is the head coordinates\n",
    "\n",
    "def calcHeads(z,matrix,hight,width):\n",
    "    \n",
    "    mekadem = 5 #this mekadem been choosed ampiracly by trail and error in the article the mekadem was 0.2 but it was too small\n",
    "    \n",
    "    mekadem_body = 2.5 #this mekadem is alsow been choosed ampiracly by trail and error \n",
    "    \n",
    "    l = 3.5 * mekadem * pmap[int(480-z[1])][int(z[0])] #this is the length of half the square from the center to the edge \n",
    "    #(3.5*sigma over this \n",
    "    #value the values tends to drop to 0)\n",
    "   \n",
    "    \n",
    "#     mu_body = [z[0],max(z[1]-l-1.75 * pmap[int(480-(z[1]+l+1.75))][int(z[0])],0)]\n",
    "    \n",
    "#     k = 3.5 * mekadem_body * mekadem * pmap[int(480-mu_body[1])][int(mu_body[0])]\n",
    "    \n",
    "#     Z = multivariate_normal.pdf([z[1],z[0]],mean=[z[1],z[0]],\n",
    "#                 cov=[[mekadem*pmap[int(480-z[1])][int(z[0])],0]\n",
    "#             ,[0,mekadem*pmap[int(480-z[1])][int(z[0])]]]) \n",
    "    \n",
    "#     Z = Z + multivariate_normal.pdf([mu_body[1],mu_body[0]],mean=[mu_body[1],mu_body[0]],\n",
    "#                 cov=[[mekadem_body*mekadem*pmap[int(480-mu_body[1])][int(mu_body[0])],0]\n",
    "#                      ,[0,mekadem*pmap[int(480-mu_body[1])][int(mu_body[0])]]])\n",
    "\n",
    "    \n",
    "    for i in range (max(int(z[1]-l),0),min(int(z[1]+l),hight)):\n",
    "        for j in range (max(int(z[0]-l),0),min(int(z[0]+l),width)):\n",
    "            #this inner loop is to calculate values to the square of the head described in variable \"z\" \n",
    "            matrix[i][j] = matrix[i][j] + multivariate_normal.pdf([i,j],mean=[z[1],z[0]],\n",
    "                cov=[[mekadem*pmap[int(480-z[1])][int(z[0])],0]\n",
    "                     ,[0,mekadem*pmap[int(480-z[1])][int(z[0])]]]) \n",
    "#             / Z\n",
    "            \n",
    "#     for i in range (max(int(mu_body[1]-k),0),min(int(mu_body[1]+k),hight)):\n",
    "#         for j in range (max(int(mu_body[0]-l),0),min(int(mu_body[0]+l),width)):\n",
    "#             matrix[i][j] = matrix[i][j] + multivariate_normal.pdf([i,j],mean=[mu_body[1],mu_body[0]],\n",
    "#                 cov=[[mekadem_body*mekadem*pmap[int(480-mu_body[1])][int(mu_body[0])],0]\n",
    "#                      ,[0,mekadem*pmap[int(480-mu_body[1])][int(mu_body[0])]]]) / Z\n",
    "   "
   ]
  },
  {
   "cell_type": "code",
   "execution_count": 13,
   "metadata": {},
   "outputs": [],
   "source": [
    "# this function is calculating the density map for a speciic picture\n",
    "def dense_map(width,hight,pic):\n",
    "    print('pic:')\n",
    "    print(pic)\n",
    "    matrix = np.zeros((hight+1,width+1))#initialize the matrix with zero values\n",
    "    heads = pictures[pic][0][0][0]#save the heads in the picture\n",
    "    list(map(lambda z:calcHeads(z,matrix,hight,width),heads))#iterate all heads in pic and calculate there square pixel values\n",
    "    return matrix"
   ]
  },
  {
   "cell_type": "code",
   "execution_count": null,
   "metadata": {
    "scrolled": false
   },
   "outputs": [
    {
     "name": "stdout",
     "output_type": "stream",
     "text": [
      "den_map started\n",
      "pic:\n",
      "800\n"
     ]
    }
   ],
   "source": [
    "# this box is creating the PDF for all the pictures\n",
    "width = 639\n",
    "hight = 479\n",
    "# num_of_pictures = 2000 #this is the real line needs to be print because of the picture number\n",
    "num_of_pictures = 2000 #this runs for testing only\n",
    "print('den_map started')\n",
    "den_map = [dense_map(width,hight,pic) for pic in range (800,num_of_pictures)]#create a list of length num_of_pictures \n",
    "#of density maps\n",
    "print('den_map finished')"
   ]
  },
  {
   "cell_type": "code",
   "execution_count": null,
   "metadata": {
    "collapsed": true
   },
   "outputs": [],
   "source": [
    "def density_patch(x0 , y0 , x1 , y1 , pic):\n",
    "    #crops the patch with cordinates x0,x1,y0,y1 from the density map of pic    \n",
    "    \n",
    "    back = [] # the patch to return\n",
    "    dense = den_map[pic] #saving the pic density map from the density maps list\n",
    "    counter = 0 #counting the rows ti know in which row to shove the columns\n",
    "    for i in range(y0,y1): #loopin over the delta y\n",
    "        \n",
    "        back.append([]) #new row\n",
    "        col = []\n",
    "        for j in range(x0,x1):#looping over the delta x\n",
    "            col.append(den_map[pic][hight-i][width-j]) #adding new pixel from the column\n",
    "        back[counter] = col #adding the entire col to the row\n",
    "        counter+=1 # next row\n",
    "        \n",
    "    return back"
   ]
  },
  {
   "cell_type": "code",
   "execution_count": null,
   "metadata": {},
   "outputs": [],
   "source": [
    "def get_dense(x0 , y0 , x1 , y1 , pic):\n",
    "    dim = 18 #the length of the patch after resize\n",
    "    dense = density_patch(x0 , y0 , x1 , y1 , pic)#getting the dense patch\n",
    "    back1 = scipy.ndimage.zoom(dense, dim/len(dense), order=1)#resizing the density patch to 18X18\n",
    "    return back1"
   ]
  },
  {
   "cell_type": "code",
   "execution_count": null,
   "metadata": {},
   "outputs": [],
   "source": [
    "def get_count(x0 , y0 , x1 , y1 , pic):\n",
    "    \n",
    "    back = 0 #heads counter\n",
    "    heads = pictures[pic][0][0][0] #gettint the list of heads in pic\n",
    "    \n",
    "    for i in heads: #itterate over all heads and add 1 to counter if the head is in delta x delta y i.e in the patch\n",
    "        if x0 <= width - i[0] and x1>=width - i[0] and y0 <=hight- i[1] and y1>=hight - i[1]:\n",
    "            back+= 1\n",
    "            \n",
    "    return back"
   ]
  },
  {
   "cell_type": "code",
   "execution_count": null,
   "metadata": {},
   "outputs": [],
   "source": [
    "def get_count2(x0 , y0 , x1 , y1 , pic):\n",
    "    #countint the number of heads in the picture by integraling over the patch from the dense map\n",
    "    dense = density_patch(x0 , y0 , x1 , y1 , pic)     \n",
    "    return sum(sum(dense,[]))"
   ]
  },
  {
   "cell_type": "code",
   "execution_count": null,
   "metadata": {},
   "outputs": [],
   "source": [
    "patches_per_pic = 80 #number of patches\n",
    "patches = [] #the patches from all the pictures (picture(0-1999),number of patch(0-79))\n",
    "patches_rgb = [] #the patches from all the pictures with the rgb value in each pixel (picture(0-1999),number of patch(0-79))\n",
    "tuples = [] # the delta x and delta y of each patches (x0,y0,x1,y1) (picture(0-1999),number of patch(0-79))\n",
    "densities = [] # the patches from all the density maps (picture(0-1999),number of patch(0-79))\n",
    "counts = [] # the counts of people in each patch by iterate heads (picture(0-1999),number of patch(0-79))\n",
    "counts2 = [] # the counts of people in each patch by integration (picture(0-1999),number of patch(0-79))\n",
    "examples = [] # the patches that has people in it (picture(0-1999),number of patch(0-79))\n",
    "\n",
    "for i in range(0,num_of_pictures):#iterate over all the pictures\n",
    "  \n",
    "    #add a new list to all the lists, all the patches to pic i\n",
    "    patches.append([]) \n",
    "    patches_rgb.append([])\n",
    "    tuples.append([])\n",
    "    densities.append([])\n",
    "    counts.append([])\n",
    "    counts2.append([])\n",
    "    #the path of the picture\n",
    "    im_path = '/home/mayakurtser-putty/matlab_mall/frame/seq_' + str(i+1).rjust(6,'0') + '.jpg'\n",
    "\n",
    "    #import the pic and rotate it because it's upside-down\n",
    "    img = Image.open(im_path,\"r\").rotate(180)\n",
    "    \n",
    "    for j in range(0,patches_per_pic): #iterate over all the patches\n",
    "        \n",
    "        flag = True #indicates that the delta x, delta y are ligable\n",
    "        \n",
    "        while flag:\n",
    "            \n",
    "            y = random.randint(0,hight) #randomly choosing the center of a square - y coordinate\n",
    "            x = random.randint(0,width) #randomly choosing the center of a square - x coordinate\n",
    "            ranges = int(pmap[int(479-y)][x])  *  20 # the length of the square \n",
    "            l = int(ranges/2) #l is the half the length of the square the distance between the center of the square to the edge\n",
    "            \n",
    "            if x - l >= 0 and x + l < width and y - l >= 0 and y + l < hight and l!=0: #checking if the length is leagiable\n",
    "\n",
    "                tup = (x - l,y - l ,x + l,y + l) #the delta x delta y\n",
    "                patch = img.crop(tup).resize((72, 72), Image.ANTIALIAS) #crop the patch\n",
    "                patches[i].append(patch) #add to the list\n",
    "                patches_rgb[i].append(list(patch.getdata())) #change to rgb\n",
    "                tuples[i].append(tup) #add to tuples list\n",
    "                densities[i].append(get_dense(x-l,y-l,x+l,y+l,i)) #croping the patch fron the density map\n",
    "                counts[i].append(get_count(x-l,y-l,x+l,y+l,i)) #counting by heads list\n",
    "                counts2[i].append(get_count2(x-l,y-l,x+l,y+l,i)) #counting by integral\n",
    "                if counts[i][j] > 1: #saving the patches with people in it\n",
    "                    aaa = i\n",
    "                    bbb = j\n",
    "                    examples.append([i,j])\n",
    "                flag = False # the crop is legiable \n",
    "                "
   ]
  },
  {
   "cell_type": "code",
   "execution_count": null,
   "metadata": {
    "collapsed": true
   },
   "outputs": [],
   "source": [
    "#just for testing\n",
    "aaa = examples[0][0]\n",
    "bbb = examples[0][1]"
   ]
  },
  {
   "cell_type": "code",
   "execution_count": null,
   "metadata": {},
   "outputs": [],
   "source": [
    "#prints for tests\n",
    "print(aaa,bbb)\n",
    "print(patches[aaa][bbb])#checked is good\n",
    "print(tuples[aaa][bbb])#checked represent the right messure\n",
    "print(len(densities[aaa][bbb]))\n",
    "print(counts[aaa][bbb])"
   ]
  },
  {
   "cell_type": "code",
   "execution_count": null,
   "metadata": {},
   "outputs": [],
   "source": [
    "testing an example patch\n",
    "im = imshow(patches[aaa][bbb],origin=\"Upper\")"
   ]
  },
  {
   "cell_type": "code",
   "execution_count": null,
   "metadata": {},
   "outputs": [],
   "source": [
    "#testing the patch of the density map\n",
    "side = np.linspace(0,len(densities[aaa][bbb]),len(densities[aaa][bbb]))\n",
    "side1 = np.linspace(0,len(densities[aaa][bbb]),len(densities[aaa][bbb]))\n",
    "X,Y = np.meshgrid(side,side1)\n",
    "a = np.matrix(densities[aaa][bbb])\n",
    "dt = pd.DataFrame(data=a)\n",
    "\n",
    "dense2 = imshow(X=dt,interpolation='bilinear', cmap=cm.cubehelix,\n",
    "                origin='Upper',\n",
    "                vmax=abs(a).max())"
   ]
  },
  {
   "cell_type": "code",
   "execution_count": null,
   "metadata": {},
   "outputs": [],
   "source": [
    "#testing to see a picture\n",
    "im = imshow(Image.open('/home/mayakurtser-putty/matlab_mall/frame/seq_000001.jpg').rotate(180),origin='Upper')"
   ]
  },
  {
   "cell_type": "code",
   "execution_count": null,
   "metadata": {},
   "outputs": [],
   "source": [
    "#testing to see if a density map is legiable\n",
    "side = np.linspace(0,479,480)\n",
    "side1 = np.linspace(0,639,640)\n",
    "X,Y = np.meshgrid(side,side1)\n",
    "a = np.matrix(den_map[0])\n",
    "dt = pd.DataFrame(data=a)\n",
    "\n",
    "dense2 = imshow(X=ndimage.rotate(dt,180),interpolation='bilinear', cmap=cm.cubehelix,\n",
    "                origin='Upper',\n",
    "                vmax=abs(a).max())"
   ]
  },
  {
   "cell_type": "code",
   "execution_count": null,
   "metadata": {},
   "outputs": [],
   "source": [
    "#testing to see the density on top of the picture\n",
    "im = imshow(Image.open('/home/mayakurtser-putty/matlab_mall/frame/seq_000001.jpg').rotate(180))\n",
    "\n",
    "dense = imshow(X=ndimage.rotate(dt,180),interpolation='bilinear'\n",
    "               , \n",
    "               cmap=cm.cubehelix,\n",
    "                origin='Lower',\n",
    "                vmax=abs(a).max(),alpha=0.5)"
   ]
  },
  {
   "cell_type": "code",
   "execution_count": null,
   "metadata": {},
   "outputs": [],
   "source": [
    "#flatning the input data to a list of patches - length = (2000*80)\n",
    "patches_rgb = [j for i in patches_rgb for j in i]#features\n",
    "densities = [j for i in densities for j in i]#labels 1\n",
    "counts = [j for i in counts for j in i]# labels 2"
   ]
  },
  {
   "cell_type": "code",
   "execution_count": null,
   "metadata": {},
   "outputs": [],
   "source": [
    "#testing only\n",
    "print(len(patches_rgb[0][0]))\n",
    "print(len(densities[0]))\n",
    "print(len(counts))"
   ]
  },
  {
   "cell_type": "code",
   "execution_count": null,
   "metadata": {},
   "outputs": [],
   "source": [
    "#testing only\n",
    "len(densities[0])"
   ]
  },
  {
   "cell_type": "code",
   "execution_count": null,
   "metadata": {
    "collapsed": true
   },
   "outputs": [],
   "source": [
    "# Load training and eval data\n",
    "train_length = int(0.7*len(patches_rgb))\n",
    "\n",
    "train_data = np.asarray(patches_rgb[0:train_length],dtype=np.float32)\n",
    "train_labels1 = np.asarray(densities[0:train_length],dtype=np.float32)\n",
    "train_labels2 = np.asarray(counts[0:train_length],dtype=np.float32)\n",
    "\n",
    "eval_data = np.asarray(patches_rgb[train_length:],dtype=np.float32)\n",
    "eval_labels = np.asarray(densities[train_length:],dtype=np.float32)\n"
   ]
  },
  {
   "cell_type": "code",
   "execution_count": null,
   "metadata": {},
   "outputs": [],
   "source": [
    "#testing only\n",
    "print(train_data.shape)\n",
    "print(train_labels1.shape)\n",
    "print(\"**for testing, printing one density map**\")\n",
    "print(train_labels1[100])"
   ]
  },
  {
   "cell_type": "code",
   "execution_count": null,
   "metadata": {},
   "outputs": [],
   "source": [
    "pickle.dump( den_map, open( \"den_map.p\", \"wb\" ) )\n",
    "pickle.dump( patches, open( \"patches.p\", \"wb\" ) )\n",
    "pickle.dump( patches_rgb, open( \"patches_rgb.p\", \"wb\" ) )\n",
    "pickle.dump( tuples, open( \"tuples.p\", \"wb\" ) )\n",
    "pickle.dump( densities, open( \"densities.p\", \"wb\" ) )\n",
    "pickle.dump( counts, open( \"counts.p\", \"wb\" ) )\n",
    "pickle.dump( counts1, open( \"counts1.p\", \"wb\" ) )\n",
    "pickle.dump( examples, open( \"examples.p\", \"wb\" ) )\n",
    "pickle.dump( train_data, open( \"train_data.p\", \"wb\" ) )\n",
    "pickle.dump( train_labels1, open( \"train_labels1.p\", \"wb\" ) )\n",
    "pickle.dump( train_labels2, open( \"train_labels2.p\", \"wb\" ) )\n",
    "pickle.dump( eval_data, open( \"eval_data.p\", \"wb\" ) )\n",
    "pickle.dump( eval_labels, open( \"eval_labels.p\", \"wb\" ) )"
   ]
  }
 ],
 "metadata": {
  "kernelspec": {
   "display_name": "Python 3",
   "language": "python",
   "name": "python3"
  },
  "language_info": {
   "codemirror_mode": {
    "name": "ipython",
    "version": 3
   },
   "file_extension": ".py",
   "mimetype": "text/x-python",
   "name": "python",
   "nbconvert_exporter": "python",
   "pygments_lexer": "ipython3",
   "version": "3.6.3"
  }
 },
 "nbformat": 4,
 "nbformat_minor": 1
}
